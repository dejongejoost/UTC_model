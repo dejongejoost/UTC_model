{
 "cells": [
  {
   "cell_type": "markdown",
   "id": "26dd9926-8f86-45f1-afe7-8345a67adc8e",
   "metadata": {},
   "source": [
    "# Retrospective Timing"
   ]
  },
  {
   "cell_type": "code",
   "execution_count": 1,
   "id": "464a761d-194a-4560-a69c-3756ab699244",
   "metadata": {},
   "outputs": [
    {
     "name": "stdout",
     "output_type": "stream",
     "text": [
      "Populating the interactive namespace from numpy and matplotlib\n"
     ]
    },
    {
     "name": "stderr",
     "output_type": "stream",
     "text": [
      "/Users/Joost/opt/anaconda3/lib/python3.9/site-packages/IPython/core/magics/pylab.py:159: UserWarning: pylab import has clobbered these variables: ['pylab']\n",
      "`%matplotlib` prevents importing * from pylab and numpy\n",
      "  warn(\"pylab import has clobbered these variables: %s\"  % clobbered +\n"
     ]
    }
   ],
   "source": [
    "import nengo\n",
    "import nengo_spa as spa\n",
    "import nengolib\n",
    "import nengo_extras\n",
    "import pytry\n",
    "import numpy as np\n",
    "import pylab\n",
    "import pandas as pd\n",
    "import seaborn as sns\n",
    "import itertools\n",
    "import scipy\n",
    "import string\n",
    "from scipy.ndimage import gaussian_filter1d\n",
    "from sklearn.decomposition import PCA\n",
    "from nengo_extras.plot_spikes import (\n",
    "    cluster, merge, plot_spikes, preprocess_spikes, sample_by_variance)\n",
    "from nengo.utils.ensemble import response_curves, tuning_curves\n",
    "\n",
    "import os\n",
    "import sys\n",
    "\n",
    "%pylab inline\n",
    "import pylab\n",
    "import cycler\n",
    "import matplotlib.collections as mcol\n",
    "\n",
    "%run ../dashedlines.py\n",
    "%run ../UTC.py"
   ]
  },
  {
   "cell_type": "code",
   "execution_count": 2,
   "id": "a240ae82-7cc7-486b-b4f6-34a6206ff4bc",
   "metadata": {},
   "outputs": [],
   "source": [
    "plt.rcParams['font.size'] = 14\n",
    "plt.rcParams['figure.titlesize'] = 14\n",
    "plt.rcParams['axes.titlesize'] = 14\n",
    "plt.rcParams['axes.labelsize'] = 14\n",
    "plt.rcParams['legend.fontsize'] = 14\n",
    "plt.rcParams['legend.handlelength'] = 3\n",
    "plt.rcParams['axes.spines.right'] = False\n",
    "plt.rcParams['axes.spines.top'] = False\n",
    "\n"
   ]
  },
  {
   "cell_type": "markdown",
   "id": "3fbadb22-c5e7-4a49-b1c2-12f67b4cf96e",
   "metadata": {},
   "source": [
    "## The effect of number of stimuli on retrospective time estimates"
   ]
  },
  {
   "cell_type": "code",
   "execution_count": 3,
   "id": "a599cbb6-14fd-43ac-940f-cc42ff92c2e5",
   "metadata": {},
   "outputs": [],
   "source": [
    "# Set parameters\n",
    "D = 64\n",
    "dim_list = np.arange(1, 7)\n",
    "N_list = np.arange(1, 11)\n",
    "\n",
    "get_dat_method = 'load'"
   ]
  },
  {
   "cell_type": "code",
   "execution_count": 4,
   "id": "7b5cae76-b3d9-4a94-aca5-7147cdc8b375",
   "metadata": {},
   "outputs": [],
   "source": [
    "%%capture\n",
    "\n",
    "if get_dat_method == 'simulate':\n",
    "    for N, dim in itertools.product(N_list, dim_list):\n",
    "        UTC().run(dimensions=dim,\n",
    "                         D=D,\n",
    "                         full_output=True,\n",
    "                         direct_mode=True,\n",
    "                         gain_i=1.,\n",
    "                         n_inputs=N,\n",
    "                         task_type = 'retrospective',\n",
    "                         data_dir='retrospective_timing_nstim',\n",
    "                         trial_duration=1.5,\n",
    "                         effective_theta=1.,\n",
    "                         stimulus_function=[],\n",
    "                         ID=N)\n",
    "\n"
   ]
  },
  {
   "cell_type": "code",
   "execution_count": 5,
   "id": "a29ed313-5af8-4dde-9156-a36a82ff0c34",
   "metadata": {},
   "outputs": [],
   "source": [
    "retrospective_data = pytry.read('retrospective_timing_nstim')"
   ]
  },
  {
   "cell_type": "code",
   "execution_count": 6,
   "id": "b7d15aae-9948-4329-b030-223a856a6b1b",
   "metadata": {},
   "outputs": [],
   "source": [
    "retrospective_dt = pd.DataFrame(retrospective_data)"
   ]
  },
  {
   "cell_type": "code",
   "execution_count": 7,
   "id": "51995f45-40ce-41ee-af99-5986057fa200",
   "metadata": {},
   "outputs": [],
   "source": [
    "# Reconstruct vocabulary object\n",
    "vocab = spa.Vocabulary(D)\n",
    "conditions = (retrospective_dt['ID']==10)\n",
    "\n",
    "for i in range(0, len(retrospective_dt[conditions]['sp_keys'].values[0])):\n",
    "    vocab.add(retrospective_dt[conditions]['sp_keys'].values[0][i], \n",
    "              retrospective_dt[conditions]['sp_vectors'].values[0][i])\n"
   ]
  },
  {
   "cell_type": "code",
   "execution_count": 8,
   "id": "e5e9f419-3652-43d8-823e-e26b38ee2eb5",
   "metadata": {},
   "outputs": [],
   "source": [
    "# read in data\n",
    "retro_state_input = []\n",
    "retro_state = []\n",
    "for dim, N in itertools.product(dim_list, N_list):\n",
    "    conditions = (retrospective_dt['ID']==N) & (retrospective_dt['dimensions']==dim)\n",
    "    retro_state_input.append(retrospective_dt[conditions]['state'].values[0])\n",
    "    retro_state.append(retrospective_dt[conditions]['x'].values[0])\n",
    "    "
   ]
  },
  {
   "cell_type": "code",
   "execution_count": 9,
   "id": "c4ffbd81-5d5b-47cd-a320-40daa0abdd07",
   "metadata": {},
   "outputs": [
    {
     "name": "stderr",
     "output_type": "stream",
     "text": [
      "/Users/Joost/opt/anaconda3/lib/python3.9/site-packages/scipy/signal/_filter_design.py:1746: BadCoefficients: Badly conditioned filter coefficients (numerator): the results may be meaningless\n",
      "  warnings.warn(\"Badly conditioned filter coefficients (numerator): the \"\n"
     ]
    }
   ],
   "source": [
    "#fig, ax = plt.subplots(len(N_list), 1, figsize=(5, 3*len(N_list)))\n",
    "\n",
    "cc = []\n",
    "cc_abs = []\n",
    "#cc2 = []\n",
    "\n",
    "colors = plt.cm.Blues(np.linspace(0.4, 1, len(N_list)))\n",
    "sp_list = list(vocab.keys())\n",
    "\n",
    "for i in range(0, len(N_list)*len(dim_list)):\n",
    "    temp_cc = []\n",
    "    temp_cc_abs = []\n",
    "    for sp in sp_list:\n",
    "        # readout temporal window\n",
    "        temp, y = readout_window(np.moveaxis(retro_state[i], 1, 0), D, 1200, \n",
    "                              np.shape(retro_state[i])[2], vocab[sp].v)\n",
    "        #ax[i].plot(temp)\n",
    "        # take sum over time\n",
    "        temp_cc.append(np.sum(temp))\n",
    "        temp_cc_abs.append(np.sum(abs(temp)))\n",
    "                \n",
    "    #ax[i].set_ylim([-0.3, 1.3])\n",
    "        \n",
    "    cc.append(np.sum(np.asarray(temp_cc)))\n",
    "    cc_abs.append(np.sum(temp_cc_abs))"
   ]
  },
  {
   "cell_type": "code",
   "execution_count": 10,
   "id": "0619260c-914d-4a12-9e0b-4285287a1950",
   "metadata": {},
   "outputs": [],
   "source": [
    "contextual_change = np.asarray(cc)\n",
    "contextual_change = contextual_change.reshape(6, 10)\n",
    "\n",
    "contextual_change_abs = np.asarray(cc_abs)\n",
    "contextual_change_abs = contextual_change_abs.reshape(6, 10)"
   ]
  },
  {
   "cell_type": "code",
   "execution_count": 11,
   "id": "aa9e2f75-ac1e-47af-958f-027444950cf2",
   "metadata": {},
   "outputs": [
    {
     "data": {
      "image/png": "[encoded data removed]",
      "text/plain": [
       "<Figure size 800x600 with 1 Axes>"
      ]
     },
     "metadata": {},
     "output_type": "display_data"
    }
   ],
   "source": [
    "fig, ax = plt.subplots(1, 1, figsize=(8, 6))\n",
    "colors = plt.cm.Blues(np.linspace(0.2, 1, len(dim_list)))\n",
    "\n",
    "for i in range(0, len(dim_list)):\n",
    "    ax.plot(np.arange(1, len(N_list)+1), \n",
    "            contextual_change_abs[i,:]/np.mean(contextual_change_abs[i,:]), \n",
    "             marker='o', color=colors[i], lw=2, label=dim_list[i])\n",
    "\n",
    "ax.legend(title='dimensions', title_fontsize=16, handlelength=3, fontsize=16)\n",
    "ax.set_xlabel('N items', size=18)\n",
    "ax.set_ylabel('normalized change', size=18)\n",
    "\n",
    "ax.spines['top'].set_visible(False)\n",
    "ax.spines['right'].set_visible(False)\n",
    "\n",
    "ax.tick_params(axis='both', which='major', labelsize=16)\n",
    "\n",
    "fig.savefig('N_stim.png', dpi=400)"
   ]
  },
  {
   "cell_type": "markdown",
   "id": "69d81322-38c2-4655-a389-88bb3db0a217",
   "metadata": {
    "tags": []
   },
   "source": [
    "## The effect of cognitive load on prospective and retrospective timing"
   ]
  },
  {
   "cell_type": "code",
   "execution_count": 12,
   "id": "2c75b301-19a0-43f2-9bba-8086f5487158",
   "metadata": {},
   "outputs": [],
   "source": [
    "# Set parameters\n",
    "D = 64\n",
    "dim = 6\n",
    "\n",
    "\n",
    "def stimulus_function(t):\n",
    "    if t > 0 and t < 0.25:\n",
    "        return 'A'\n",
    "    elif t > 0.25 and t < 0.5:\n",
    "        return 'B'\n",
    "    elif t > 0.5 and t < 0.75:\n",
    "        return 'C'\n",
    "    elif t > 0.75 and t < 1.:\n",
    "        return 'D'\n",
    "    else:\n",
    "        return 0\n",
    "    \n",
    "gi_list = np.arange(0, 2.25, 0.25)"
   ]
  },
  {
   "cell_type": "code",
   "execution_count": 13,
   "id": "02779088-ae24-4d66-84ea-c5d69b32e5fc",
   "metadata": {},
   "outputs": [],
   "source": [
    "%%capture\n",
    "\n",
    "for gi in gi_list:\n",
    "    UTC().run(dimensions=dim,\n",
    "                     D=D,\n",
    "                     full_output=True,\n",
    "                     direct_mode=False,\n",
    "                     gain_i=gi,\n",
    "                     task_type = 'prospective_sensory',\n",
    "                     stimulus_function=stimulus_function,\n",
    "                     data_dir='pro_retro',\n",
    "                     trial_duration=1.5)"
   ]
  },
  {
   "cell_type": "code",
   "execution_count": null,
   "id": "342874a4-3e97-4111-8f4e-bbd8b8a708c0",
   "metadata": {},
   "outputs": [],
   "source": [
    "%%capture\n",
    "\n",
    "for gi in gi_list:\n",
    "    UTC().run(dimensions=dim,\n",
    "                     D=D,\n",
    "                     full_output=True,\n",
    "                     direct_mode=False,\n",
    "                     gain_i=gi,\n",
    "                     task_type = 'retrospective',\n",
    "                     stimulus_function=stimulus_function,\n",
    "                     data_dir='pro_retro',\n",
    "                     trial_duration=1.5)"
   ]
  },
  {
   "cell_type": "code",
   "execution_count": null,
   "id": "e88a8f1b-d773-4d02-bcb9-8362bfc89019",
   "metadata": {},
   "outputs": [],
   "source": [
    "pro_retro_data = pytry.read('pro_retro')"
   ]
  },
  {
   "cell_type": "code",
   "execution_count": null,
   "id": "f3030e8f-53f9-4f0a-998a-bdb6731dbc3d",
   "metadata": {},
   "outputs": [],
   "source": [
    "pro_retro_dt = pd.DataFrame(pro_retro_data)"
   ]
  },
  {
   "cell_type": "code",
   "execution_count": null,
   "id": "3bed38ff-e99e-4bce-b108-b4fed4847c72",
   "metadata": {},
   "outputs": [],
   "source": [
    "# Reconstruct vocabulary object\n",
    "vocab = spa.Vocabulary(int(pro_retro_dt['D'][0]))\n",
    "for i in range(0, len(pro_retro_dt['sp_keys'][0])):\n",
    "    vocab.add(pro_retro_dt['sp_keys'][0][i], pro_retro_dt['sp_vectors'][0][i])"
   ]
  },
  {
   "cell_type": "code",
   "execution_count": null,
   "id": "3fd7ea5a-f7a9-442c-a664-306e6650f747",
   "metadata": {},
   "outputs": [],
   "source": [
    "# read in data\n",
    "pro_state_input = []\n",
    "pro_state = []\n",
    "for i in range(len(gi_list)):\n",
    "    conditions = (pro_retro_dt['task_type']=='prospective_sensory') & (pro_retro_dt['gain_i']==gi_list[i])\n",
    "    pro_state_input.append(pro_retro_dt[conditions]['state'].values[0])\n",
    "    pro_state.append(pro_retro_dt[conditions]['x'].values[0])\n",
    "    \n",
    "    \n",
    "retro_state_input = []\n",
    "retro_state = []\n",
    "for i in range(len(gi_list)):\n",
    "    conditions = (pro_retro_dt['task_type']=='retrospective') & (pro_retro_dt['gain_i']==gi_list[i])\n",
    "    retro_state_input.append(pro_retro_dt[conditions]['state'].values[0])\n",
    "    retro_state.append(pro_retro_dt[conditions]['x'].values[0])\n"
   ]
  },
  {
   "cell_type": "code",
   "execution_count": null,
   "id": "65210868-22e6-4796-aab1-bb99288634d2",
   "metadata": {},
   "outputs": [],
   "source": [
    "prospective_estimates = []\n",
    "stim_decoding = []\n",
    "contextual_change = []\n",
    "\n",
    "sp_list = ['A', 'B', 'C', 'D']\n",
    "\n",
    "trange = np.linspace(-1, 0, 1000)\n",
    "for i in range(len(gi_list)):\n",
    "    # prospective estimate\n",
    "    temp, y = readout_window(np.moveaxis(pro_state[i], 1, 0), D, 1050, dim, vocab['T'].v)\n",
    "    plt.plot(temp)\n",
    "    prospective_estimates.append(np.mean(abs(temp)))\n",
    "    \n",
    "    temp_dec = [] # maximal stimulus decoding estimate\n",
    "    temp_ch = [] # retrospective estimate\n",
    "    for sp in sp_list:\n",
    "        temp, y = readout_window(np.moveaxis(pro_state[i], 1, 0), D, 1050, dim, vocab[sp].v)\n",
    "        \n",
    "        temp_ch.append(np.mean(abs(temp)))\n",
    "        \n",
    "        if sp == 'A':\n",
    "            stim_temp, y = readout_window(np.moveaxis(pro_state[i], 1, 0), D, 1000, dim, vocab[sp].v)\n",
    "            temp_dec = np.max(stim_temp)\n",
    "        \n",
    "    stim_decoding.append(temp_dec)\n",
    "    contextual_change.append(np.sum(np.asarray(temp_ch)))\n",
    "    \n",
    "\n",
    "prospective_estimates = np.asarray(prospective_estimates)  \n",
    "stim_decoding = np.asarray(stim_decoding)  \n",
    "contextual_change = np.asarray(contextual_change)\n",
    "\n"
   ]
  },
  {
   "cell_type": "code",
   "execution_count": null,
   "id": "691766d0-e287-4936-9555-f186204c0c48",
   "metadata": {},
   "outputs": [],
   "source": [
    "plt.rcParams['font.size'] = 18\n",
    "plt.rcParams['axes.titlesize'] = 18\n",
    "plt.rcParams['axes.titlesize'] = 18\n",
    "plt.rcParams['axes.labelsize'] = 18\n",
    "plt.rcParams['legend.fontsize'] = 18\n",
    "plt.rcParams['legend.handlelength'] = 3\n",
    "plt.rcParams['axes.spines.right'] = False\n",
    "plt.rcParams['axes.spines.top'] = False\n",
    "\n"
   ]
  },
  {
   "cell_type": "code",
   "execution_count": null,
   "id": "a0921816-856f-4913-ae9b-b1297161d53d",
   "metadata": {},
   "outputs": [],
   "source": [
    "# Block et al. (2010) data\n",
    "block_2010_prospective = np.array([0.9217228464419477, 0.7985018726591762])\n",
    "block_2010_retrospective = np.array([0.8475655430711612, 0.9235955056179777])\n",
    "\n",
    "fig, (ax1, ax2) = plt.subplots(1, 2, figsize=(11,6), sharey=True, sharex=False)\n",
    "\n",
    "ax1.set_title('Block et al. (2010)')\n",
    "ax1.plot([0, 1.5], block_2010_prospective, 'ko-', label='prospective')\n",
    "\n",
    "ax1.plot([0, 1.5], block_2010_retrospective, 'wo-', label='retrospective',\n",
    "        color='black', ls='dashed', mec='black', mfc='white')\n",
    "\n",
    "#ax1.set_ylim([0.70, 1.10])\n",
    "ax1.set_xlim([-0.5, 2.])\n",
    "\n",
    "ax1.set_xticks([0, 1.5])\n",
    "ax1.set_xticklabels(['low', 'high'])\n",
    "ax1.set_xlabel('Cognitive Load')\n",
    "ax1.set_ylabel('Duration judgement ratio')\n",
    "ax1.spines['top'].set_visible(False)\n",
    "ax1.spines['right'].set_visible(False)\n",
    "ax1.legend(loc='upper center')\n",
    "\n",
    "# Model \n",
    "ax2.set_title('UTC model')\n",
    "ax2.plot(gi_list, prospective_estimates, 'ko-', label='prospective')\n",
    "\n",
    "ax2.plot(gi_list, contextual_change*0.05+0.85, 'wo-', label='retrospective',\n",
    "        color='black', ls='dashed', mec='black', mfc='white')\n",
    "\n",
    "ax2.set_ylim([0.70, 1.10])\n",
    "ax2.set_xlim([-0.4, 2.4])\n",
    "ax2.set_xticks([0, 0.5, 1., 1.5, 2.])\n",
    "ax2.set_xlabel('Attention to stimuli $(g_s)$')\n",
    "ax2.set_ylabel('')\n",
    "ax2.set_yticks(np.arange(0.7, 1.1, 0.05))\n",
    "ax2.set_yticklabels(['0.70', '', '0.80', '', '0.90', '', '1.00', '', '1.10'])\n",
    "ax2.spines['top'].set_visible(False)\n",
    "ax2.spines['right'].set_visible(False)\n",
    "\n",
    "fig.tight_layout()\n",
    "\n",
    "fig.savefig('block2010_modelfit.png', dpi=400)\n",
    "#fig.savefig('block2010_modelfit.tiff', dpi=400, bbox_inches='tight')"
   ]
  },
  {
   "cell_type": "code",
   "execution_count": null,
   "id": "8ca31ff4-30bb-468b-9c35-ddbe2ffaa1b6",
   "metadata": {},
   "outputs": [],
   "source": []
  }
 ],
 "metadata": {
  "kernelspec": {
   "display_name": "Python 3 (ipykernel)",
   "language": "python",
   "name": "python3"
  },
  "language_info": {
   "codemirror_mode": {
    "name": "ipython",
    "version": 3
   },
   "file_extension": ".py",
   "mimetype": "text/x-python",
   "name": "python",
   "nbconvert_exporter": "python",
   "pygments_lexer": "ipython3",
   "version": "3.9.13"
  }
 },
 "nbformat": 4,
 "nbformat_minor": 5
}
